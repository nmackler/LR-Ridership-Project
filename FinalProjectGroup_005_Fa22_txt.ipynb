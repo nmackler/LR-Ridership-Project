{
  "cells": [
    {
      "cell_type": "markdown",
      "metadata": {
        "id": "K6R47ZTtVtjq"
      },
      "source": [
        "# Does building new lightrail change ridership on Bus and Light Rail in the same transit system?\n",
        "---\n",
        "\n"
      ]
    },
    {
      "cell_type": "markdown",
      "source": [
        "Video Link: https://drive.google.com/file/d/1ioFXawasKqv9GZKZW9SVc9mK4zSP9wRh/view?usp=sharing"
      ],
      "metadata": {
        "id": "5VQOeiawwnYs"
      }
    },
    {
      "cell_type": "markdown",
      "metadata": {
        "id": "czLTmwC6Vtjr"
      },
      "source": [
        "## Permissions\n",
        "\n",
        "Place an `X` in the appropriate bracket below to specify if you would like your group's project to be made available to the public. (Note that student names will be included (but PIDs will be scraped from any groups who include their PIDs).\n",
        "\n",
        "* [ X ] YES - make available\n",
        "* [  ] NO - keep private"
      ]
    },
    {
      "cell_type": "markdown",
      "metadata": {
        "id": "fR9bbb1bVtjs"
      },
      "source": [
        "# Overview"
      ]
    },
    {
      "cell_type": "markdown",
      "metadata": {
        "id": "DNm6-oe1Vtjs"
      },
      "source": [
        "We attempted to find a relationship between the opening of new transit projects and change in ridership in those transit systems. Ultimately, with the data available, we were only able to look at the opening of new light rail systems. We were unable to tease out a significant relationship between the opening of new portions of light rail systems and ridership on those systems' light rail and bus network. This could be due to the lack of a real relationship or due to our methodology. "
      ]
    },
    {
      "cell_type": "markdown",
      "metadata": {
        "id": "XFgbA3AUVtjs"
      },
      "source": [
        "# Names\n",
        "\n",
        "- Alfonso Alfonso\n",
        "- Bobby Baylon\n",
        "- Mingjin Zhang\n",
        "- Hang Liu\n",
        "- Nathaniel Mackler"
      ]
    },
    {
      "cell_type": "markdown",
      "metadata": {
        "id": "29m2ffpVVtjt"
      },
      "source": [
        "<a id='research_question'></a>\n",
        "# Research Question"
      ]
    },
    {
      "cell_type": "markdown",
      "metadata": {
        "id": "p3kaGvQJVtjt"
      },
      "source": [
        "San Diego MTS made major expansions to the San Diego Trolley system in 1997 with the Mission Valley extension and 2005 with the Mission Valley East extension. Our research question is how the modeshare of San Diego transit usage changed following these upgrades. Specifically, did the bus ridership grow more slowly following these extensions than it had prior to these extensions? Building upon this research, which seeks to replicate prior research, we want to see what the relationships are between other transit modes. For example, did the introduction of MTS Premium Express service (now Rapid Express) increase ridership on local buses due to connections? Did the introduction of the cheaper but slower 235 rapid cannibalize the Rapid Express's ridership? Finally, we'll investigate if the introduction of the coaster increased ridership on local bus and trolley service in the MTS system."
      ]
    },
    {
      "cell_type": "markdown",
      "metadata": {
        "id": "woS4fdjKVtjt"
      },
      "source": [
        "<a id='background'></a>\n",
        "\n",
        "## Background & Prior Work"
      ]
    },
    {
      "cell_type": "markdown",
      "metadata": {
        "id": "93QKfNjiVtjt"
      },
      "source": [
        "One major goal of governments when implementing a new transit system is to change transport mode from private cars to public transit. Mode shifts from cars to transit are especially important because they represent a decrease both in road congestion, (and therefore, hopefully, travel time) as well as the enormous environmental impacts, both in terms of GHGs and other pollutants from exhaust, tires, and brakes. ^1 However, prior research has shown that light rail can often result in trips shifting from buses to light rail rather than cars to light rail.^2 While this is still a social good because it can reduce travel time and increase reliability for those transit riders, it does not result in the same congestion or environmental benefits as mode shifts from private cars.\n",
        "\n",
        "Unfortunately, the American Community Survey, a product of the census which contains data on mode-share of commutes, does not go back far enough to investigate some of the transit projects we wish to study. Therefore, we will attempt to evaluate the effect of transit systems on the network as a whole by investigating relative growth rates of different parts of the system.\n",
        "\n"
      ]
    },
    {
      "cell_type": "markdown",
      "metadata": {
        "id": "coIDAjQ2Vtju"
      },
      "source": [
        "# Hypothesis\n"
      ]
    },
    {
      "cell_type": "markdown",
      "metadata": {
        "id": "txDm2KNqVtju"
      },
      "source": [
        "We predict that the introduction of new transit systems will have measuerable effects on the rate of growth and absolute number of Unlinked Passenger Trips (UPTs) of multiple different modes of transit. While it is possible for the direction of these changes to be positive or negative, we specifically predict that the opening of new light rail segments will increase UPTs on Motor Buses, and that the introduction of new Commuter buses may increase the ridership on Motor Buses and Light Rail. Finally, we predict that the introduction of the commuter/motor hybrid Route 235 (which is counted in the data as a Motor Bus) will negatively impact ridership on the Commuter Bus lines that duplicate the route. Some reasons that we have to support our hypothesis is that people using Commuter buses to get to downtown San Diego will then need to connect to a motor bus or light rail to get to their final definition. And opening a new trolley line will lead to more people using transit, and those people will then be more likely to ride buses, either due to increased familiarity with the system or a need to transfer."
      ]
    },
    {
      "cell_type": "markdown",
      "metadata": {
        "id": "NQz3qzhuVtju"
      },
      "source": [
        "# Dataset(s)"
      ]
    },
    {
      "cell_type": "markdown",
      "metadata": {
        "id": "9KXnRmLnVtju"
      },
      "source": [
        " Dataset Name: NTD Time Series 2021 TS2.1 Service Data and Operating Expenses Time Series by Mode\n",
        "- Link to the dataset: https://www.transit.dot.gov/sites/fta.dot.gov/files/2021-Annual-Time-Series.zip \n",
        "- Number of observations: ~400\n",
        "\n",
        "This dataset provides public transit data reported by public transit operators who receive federal funding. This covers multiple data points such as Passenger Miles Traveled, Operating Expenses. We will primarily be focusing on Unlinked Passenger Trips and Vehicle Revenue Hours"
      ]
    },
    {
      "cell_type": "markdown",
      "source": [
        "* Dataset Name: Resident Population in San Diego County, CA\n",
        "*   Link to the dataset: https://fred.stlouisfed.org/series/CASAND5POP\n",
        "*   Number of observations: 52\n",
        "This dataset shows the population of San Diego County from the years 1970 to 2021.\n",
        "\n",
        "(Similar data also retrieved for Portland and Sacramento metro areas after scope change)\n",
        "\n",
        "While our main focus lies in the NTD, we need this dataset of the population of San Diego as it is a confounding variable that we need to account for when analyzing the data of passengers."
      ],
      "metadata": {
        "id": "6v7bTLYrXCZt"
      }
    },
    {
      "cell_type": "markdown",
      "metadata": {
        "id": "oTShaXMiVtju"
      },
      "source": [
        "# Setup"
      ]
    },
    {
      "cell_type": "code",
      "execution_count": null,
      "metadata": {
        "id": "6z5j9uOVVtju",
        "colab": {
          "base_uri": "https://localhost:8080/"
        },
        "outputId": "3059da3f-d7d9-42ef-ab6f-9a8201bb7ece"
      },
      "outputs": [
        {
          "output_type": "stream",
          "name": "stdout",
          "text": [
            "Looking in indexes: https://pypi.org/simple, https://us-python.pkg.dev/colab-wheels/public/simple/\n",
            "Requirement already satisfied: xlrd==1.2.0 in /usr/local/lib/python3.8/dist-packages (1.2.0)\n"
          ]
        }
      ],
      "source": [
        "!pip install xlrd==1.2.0\n",
        "import xlrd\n",
        "import numpy as np\n",
        "import pandas as pd\n",
        "import seaborn as sns\n",
        "import matplotlib.pyplot as plt\n",
        "import patsy\n",
        "import statsmodels.api as sm\n",
        "import statsmodels.formula.api as smf"
      ]
    },
    {
      "cell_type": "code",
      "source": [
        "NTD = pd.read_excel(io='https://github.com/nmackler/Data_Test/blob/c6fea8074ba77a7974cb0e574bd9adf89bc8ccac/TS2.1%20Service%20Data%20and%20Operating%20Expenses%20Time%20Series%20by%20Mode.xlsx?raw=true', sheet_name='UPT', engine='openpyxl')\n",
        "NTD_VRH = pd.read_excel(io='https://github.com/nmackler/Data_Test/blob/c6fea8074ba77a7974cb0e574bd9adf89bc8ccac/TS2.1%20Service%20Data%20and%20Operating%20Expenses%20Time%20Series%20by%20Mode.xlsx?raw=true', sheet_name='VRH', engine='openpyxl')\n"
      ],
      "metadata": {
        "colab": {
          "base_uri": "https://localhost:8080/"
        },
        "id": "mwpmP5I1YWEW",
        "outputId": "ac1faef6-86b0-4566-bd4e-39cad08285d2"
      },
      "execution_count": null,
      "outputs": [
        {
          "output_type": "stream",
          "name": "stderr",
          "text": [
            "/usr/local/lib/python3.8/dist-packages/openpyxl/worksheet/header_footer.py:48: UserWarning: Cannot parse header or footer so it will be ignored\n",
            "  warn(\"\"\"Cannot parse header or footer so it will be ignored\"\"\")\n"
          ]
        }
      ]
    },
    {
      "cell_type": "code",
      "source": [
        "fred_SD = pd.read_excel(io='https://github.com/nmackler/Data_Test/blob/main/CASAND5POP.xls?raw=true', skiprows=10)\n",
        "fred_SAC = pd.read_excel(io='https://github.com/nmackler/Data_Test/blob/e3eeb96dc919fd83cb13157e485ca9078e6aad1d/SYOPOP.xls?raw=true', skiprows=10)\n",
        "fred_PDX = pd.read_excel(io='https://github.com/nmackler/Data_Test/blob/e3eeb96dc919fd83cb13157e485ca9078e6aad1d/PORPOP.xls?raw=true', skiprows=10)"
      ],
      "metadata": {
        "id": "NmQERB74YWKp"
      },
      "execution_count": null,
      "outputs": []
    },
    {
      "cell_type": "code",
      "source": [
        "SD_service_expansions = pd.read_excel(io='https://github.com/nmackler/Data_Test/blob/16284d80295eb5d4dc33c03ca17aa50a29e6cbb1/Service%20Expansions%20-%20San%20Diego.xlsx?raw=true')\n",
        "SA_service_expansions = pd.read_excel(io='https://github.com/nmackler/Data_Test/blob/3148b524ae3b417cdb8f787b4abe6ff237896ade/Service%20Expansions%20-%20Sacramento.xlsx?raw=true')\n",
        "PDX_service_expansions = pd.read_excel(io='https://github.com/nmackler/Data_Test/blob/3148b524ae3b417cdb8f787b4abe6ff237896ade/Service%20Expansions%20-%20Portland.xlsx?raw=true')"
      ],
      "metadata": {
        "id": "JIFBqy-lYWRI"
      },
      "execution_count": null,
      "outputs": []
    },
    {
      "cell_type": "markdown",
      "metadata": {
        "id": "DEqa9tIOVtjv"
      },
      "source": [
        "# Data Cleaning"
      ]
    },
    {
      "cell_type": "markdown",
      "metadata": {
        "id": "kIqO-I9YVtjv"
      },
      "source": [
        "Describe your data cleaning steps here."
      ]
    },
    {
      "cell_type": "code",
      "execution_count": null,
      "metadata": {
        "id": "A7XS3DPpVtjv"
      },
      "outputs": [],
      "source": [
        "#Creates three DFs, NTD_SD, NTD_SA, and NTD_PO with data only from San Diego, Sacramento, and Portland. Creates similar for VRH\n",
        "\n",
        "NTD_SD = NTD[NTD['UZA'].isin([15])]\n",
        "NTD_SA = NTD[NTD['UZA'].isin([28])]\n",
        "NTD_PO = NTD[NTD['UZA'].isin([24])]\n",
        "NTD_SD_VRH = NTD_VRH[NTD_VRH['UZA'].isin([15])]\n",
        "NTD_SA_VRH = NTD_VRH[NTD_VRH['UZA'].isin([28])]\n",
        "NTD_PO_VRH = NTD_VRH[NTD_VRH['UZA'].isin([24])]"
      ]
    },
    {
      "cell_type": "code",
      "source": [
        "def trim_cols(DF_inp):\n",
        "#removes columns before 1991, after 2019 (due to covid), and all other columns (eg system information) that arent ridership data\n",
        "  list_cols = list(DF_inp.keys())\n",
        "  for i in range(0, len(list_cols)):\n",
        "    if list_cols[i] == 'Mode':\n",
        "      loc_mode = i\n",
        "    elif list_cols[i] == '1991':\n",
        "      loc_91 = i\n",
        "    elif list_cols[i] == '2019':\n",
        "      loc_19 = i\n",
        "  list_cols_keep = [loc_mode]\n",
        "  for i in range(loc_91, loc_19 + 1):\n",
        "    list_cols_keep.append(i)\n",
        "  list_cols_keep_named = []\n",
        "  for i in list_cols_keep:\n",
        "    list_cols_keep_named.append(list_cols[i])\n",
        "  NTD_Trimmed = DF_inp[list_cols_keep_named]\n",
        "\n",
        "  return NTD_Trimmed"
      ],
      "metadata": {
        "id": "flFZqImQYaXv"
      },
      "execution_count": null,
      "outputs": []
    },
    {
      "cell_type": "code",
      "source": [
        "#runs the trim_cols function\n",
        "\n",
        "NTD_SD_Trimmed = trim_cols(NTD_SD)\n",
        "NTD_SA_Trimmed = trim_cols(NTD_SA)\n",
        "NTD_PO_Trimmed = trim_cols(NTD_PO)\n",
        "NTD_SD_VRH_Trimmed = trim_cols(NTD_SD_VRH)\n",
        "NTD_SA_VRH_Trimmed = trim_cols(NTD_SA_VRH)\n",
        "NTD_PO_VRH_Trimmed = trim_cols(NTD_PO_VRH)"
      ],
      "metadata": {
        "id": "LLHQlCCRYbbs"
      },
      "execution_count": null,
      "outputs": []
    },
    {
      "cell_type": "code",
      "source": [
        "#A function that condenses all the different ways that buses and light rail have been reported\n",
        "def NTD_agg(NTD_df, portland_flag=0):\n",
        "  NTD_Agg = NTD_df.groupby('Mode').agg('sum')\n",
        "  #Drops Demand Response, Demand Response Taxi, Aerial Tramway, and Vanpool, which will not be used for this analysis\n",
        "\n",
        "  NTD_Agg = NTD_Agg.drop(labels=['DT', 'DR', 'VP'])\n",
        "  if portland_flag == 1:\n",
        "    NTD_Agg = NTD_Agg.drop(labels=['CR', 'RB', 'TR'])           #insufficient data on these modes for portland\n",
        "  return NTD_Agg"
      ],
      "metadata": {
        "id": "Vej-iDugYcdz"
      },
      "execution_count": null,
      "outputs": []
    },
    {
      "cell_type": "code",
      "source": [
        "NTD_SD_Agg = NTD_agg(NTD_SD_Trimmed)\n",
        "NTD_SA_Agg = NTD_agg(NTD_SA_Trimmed)\n",
        "NTD_PO_Agg = NTD_agg(NTD_PO_Trimmed, 1)\n",
        "NTD_SD_VRH_Agg = NTD_agg(NTD_SD_VRH_Trimmed)\n",
        "NTD_SA_VRH_Agg = NTD_agg(NTD_SA_VRH_Trimmed)\n",
        "NTD_PO_VRH_Agg = NTD_agg(NTD_PO_VRH_Trimmed, 1)"
      ],
      "metadata": {
        "id": "TF_WD4JmYdmD"
      },
      "execution_count": null,
      "outputs": []
    },
    {
      "cell_type": "code",
      "source": [
        "def fix_pop(data, start_year=2000):\n",
        "#takes our population data and starts it from 2000 for portland/SA, and 1991 for SD. Gets rid of anything that isn't just the data\n",
        "  try:\n",
        "    data['year'] = list(range(start_year, 2022))\n",
        "    data = data.set_index('year')\n",
        "  except ValueError:\n",
        "    pass\n",
        "  try:\n",
        "    data = data.drop(axis=1, labels='observation_date')\n",
        "  except KeyError:\n",
        "    pass\n",
        "  try:\n",
        "    data = data.drop(list(range(1970, 1991)))\n",
        "  except KeyError:\n",
        "    pass\n",
        "  try:\n",
        "    data = data.rename(columns={'CASAND5POP': 'population'})\n",
        "  except KeyError: \n",
        "    pass\n",
        "  try:\n",
        "    data = data.rename(columns={'PORPOP': 'population'})\n",
        "  except KeyError:\n",
        "    pass\n",
        "  try: \n",
        "    data = data.rename(columns={'SYOPOP': 'population'})\n",
        "  except KeyError:\n",
        "    pass\n",
        "  return data"
      ],
      "metadata": {
        "id": "NvBsgNKYYemw"
      },
      "execution_count": null,
      "outputs": []
    },
    {
      "cell_type": "code",
      "source": [
        "#Created series based on the population data in San Diego from 1991-2019, and Sacramento and Portland from 2000-2019\n",
        "SD_Pop = fix_pop(fred_SD, 1970)\n",
        "SAC_Pop = fix_pop(fred_SAC)\n",
        "PDX_Pop = fix_pop(fred_PDX)"
      ],
      "metadata": {
        "id": "DyxOa8wAia6x"
      },
      "execution_count": null,
      "outputs": []
    },
    {
      "cell_type": "code",
      "source": [
        "#transposes dataframe if the years are currently keys rather than index. \n",
        "#Done as a function rather than inplace to prevent jupyter notebooks errors from rerunning cells.\n",
        "def conditional_transpose(input_df):\n",
        "  if input_df.keys().to_list()[0] == '1991' or input_df.keys().to_list()[0] == 1991:\n",
        "    input_df = input_df.transpose()\n",
        "  return input_df\n"
      ],
      "metadata": {
        "id": "50v8SwX-idLj"
      },
      "execution_count": null,
      "outputs": []
    },
    {
      "cell_type": "code",
      "source": [
        "#does the transposing if needed\n",
        "NTD_SD_Agg = conditional_transpose(NTD_SD_Agg)\n",
        "NTD_SA_Agg = conditional_transpose(NTD_SA_Agg)\n",
        "NTD_PO_Agg = conditional_transpose(NTD_PO_Agg)\n",
        "NTD_SD_VRH_Agg = conditional_transpose(NTD_SD_VRH_Agg)\n",
        "NTD_SA_VRH_Agg = conditional_transpose(NTD_SA_VRH_Agg)\n",
        "NTD_PO_VRH_Agg = conditional_transpose(NTD_PO_VRH_Agg)\n",
        "#CB = Commuter Bus\n",
        "#CR = Commuter Rail\n",
        "#LR = Light Rail\n",
        "#MB = Bus\n",
        "#YR = Hybrid Rail"
      ],
      "metadata": {
        "id": "AVoG-qQnl_3E"
      },
      "execution_count": null,
      "outputs": []
    },
    {
      "cell_type": "code",
      "source": [
        "#sets index to int instead of str\n",
        "NTD_SD_Agg.index = NTD_SD_Agg.index.astype(int)\n",
        "NTD_SA_Agg.index = NTD_SA_Agg.index.astype(int)\n",
        "NTD_PO_Agg.index = NTD_PO_Agg.index.astype(int)\n",
        "NTD_SD_VRH_Agg.index = NTD_SD_VRH_Agg.index.astype(int)\n",
        "NTD_SA_VRH_Agg.index = NTD_SA_VRH_Agg.index.astype(int)\n",
        "NTD_PO_VRH_Agg.index = NTD_PO_VRH_Agg.index.astype(int)"
      ],
      "metadata": {
        "id": "UHLDIDIPmYFk"
      },
      "execution_count": null,
      "outputs": []
    },
    {
      "cell_type": "code",
      "source": [
        "#cuts out 2020 and 2021 from the population data as COVID is a MASSIVE confounding variable\n",
        "def pop_slicer(pop_data):\n",
        "  if pop_data.index.to_list()[-1] == 2021:\n",
        "    pop_data = pop_data[:-2]\n",
        "  return pop_data"
      ],
      "metadata": {
        "id": "554Cb4BE-Cv-"
      },
      "execution_count": null,
      "outputs": []
    },
    {
      "cell_type": "code",
      "source": [
        "#runs the pop slicer function\n",
        "SD_Pop = pop_slicer(SD_Pop)\n",
        "SAC_Pop = pop_slicer(SAC_Pop)\n",
        "PDX_Pop = pop_slicer(PDX_Pop)"
      ],
      "metadata": {
        "id": "tTqnhtLaAX-R"
      },
      "execution_count": null,
      "outputs": []
    },
    {
      "cell_type": "code",
      "source": [
        "#creates dataframes normalized by population\n",
        "SD_Pop_Norm = NTD_SD_Agg.divide(SD_Pop['population'].to_list(), axis=0)\n",
        "SA_Pop_Norm = NTD_SA_Agg.iloc[9:].divide(SAC_Pop['population'].to_list(), axis = 0)\n",
        "PDX_Pop_Norm = NTD_PO_Agg.iloc[9:].divide(PDX_Pop['population'].to_list(), axis = 0)"
      ],
      "metadata": {
        "id": "BfSRE1j-xT2V"
      },
      "execution_count": null,
      "outputs": []
    },
    {
      "cell_type": "code",
      "source": [
        "#creates dataframes normalized by VRH\n",
        "SD_VRH_Norm = NTD_SD_Agg / NTD_SD_VRH_Agg\n",
        "SA_VRH_Norm = NTD_SA_Agg / NTD_SA_VRH_Agg\n",
        "PDX_VRH_Norm = NTD_PO_Agg / NTD_PO_VRH_Agg"
      ],
      "metadata": {
        "id": "L1Ze7onlCF9_"
      },
      "execution_count": null,
      "outputs": []
    },
    {
      "cell_type": "code",
      "source": [
        "SD_VRH_Norm = SD_VRH_Norm.fillna(0)\n",
        "SA_VRH_Norm = SA_VRH_Norm.fillna(0)\n",
        "PDX_VRH_Norm = PDX_VRH_Norm.fillna(0)\n",
        "SD_Pop_Norm = SD_Pop_Norm.fillna(0)\n",
        "SA_Pop_Norm = SA_Pop_Norm.fillna(0)\n",
        "PDX_Pop_Norm = PDX_Pop_Norm.fillna(0)"
      ],
      "metadata": {
        "id": "ALQ04Jei018F"
      },
      "execution_count": null,
      "outputs": []
    },
    {
      "cell_type": "code",
      "source": [
        "#takes change in ridership instead of raw ridership count\n",
        "SD_VRH_Norm_per = SD_VRH_Norm.pct_change()\n",
        "SA_VRH_Norm_per = SA_VRH_Norm.pct_change()\n",
        "PDX_VRH_Norm_per = PDX_VRH_Norm.pct_change()\n",
        "SD_Pop_Norm_per = SD_Pop_Norm.pct_change()\n",
        "SA_Pop_Norm_per = SA_Pop_Norm.pct_change()\n",
        "PDX_Pop_Norm_per = PDX_Pop_Norm.pct_change()"
      ],
      "metadata": {
        "id": "JKwKJdVG_Mx4"
      },
      "execution_count": null,
      "outputs": []
    },
    {
      "cell_type": "code",
      "source": [
        "SD_VRH_Norm_per = SD_VRH_Norm_per.fillna(0)\n",
        "SA_VRH_Norm_per = SA_VRH_Norm_per.fillna(0)\n",
        "PDX_VRH_Norm_per = PDX_VRH_Norm_per.fillna(0)\n",
        "SD_Pop_Norm_per = SD_Pop_Norm_per.fillna(0)\n",
        "SA_Pop_Norm_per = SA_Pop_Norm_per.fillna(0)\n",
        "PDX_Pop_Norm_per = PDX_Pop_Norm_per.fillna(0)"
      ],
      "metadata": {
        "id": "huN_ep6Z_cIs"
      },
      "execution_count": null,
      "outputs": []
    },
    {
      "cell_type": "code",
      "source": [
        "#transposes, adds 0s, sets index, and changes key names to make our excel sheet\n",
        "#with service expansions play nicely with the DFs from the NTD\n",
        "def fix_service_expansions(df):\n",
        "  if df.iloc[0,0] in ['CB', 'CR', 'LR', 'MB', 'YR', 'SR']:\n",
        "    df = df.set_index(keys='MODE')\n",
        "    df = df.iloc[:, 1:-1]\n",
        "  df = df.fillna(0)\n",
        "  df = conditional_transpose(df)\n",
        "  #below if statement from open AI chat GPT\n",
        "  if df.keys().to_list()[0] in ['CB', 'CR', 'LR', 'MB', 'YR', 'SR']:\n",
        "    # Generate the dictionary mapping the old keys to the new keys\n",
        "    mapping = {key: f\"{key}_exp\" for key in df.columns}\n",
        "\n",
        "    # Append \"_exp\" to the string value of each key\n",
        "    df = df.rename(columns=mapping)\n",
        "  return df\n"
      ],
      "metadata": {
        "id": "VWPzJrMoHF24"
      },
      "execution_count": null,
      "outputs": []
    },
    {
      "cell_type": "code",
      "source": [
        "#runs the fix_service_expansions function we just created\n",
        "SD_service_expansions = fix_service_expansions(SD_service_expansions)\n",
        "SA_service_expansions = fix_service_expansions(SA_service_expansions)\n",
        "PDX_service_expansions = fix_service_expansions(PDX_service_expansions)"
      ],
      "metadata": {
        "id": "oBZHLDUBGyis"
      },
      "execution_count": null,
      "outputs": []
    },
    {
      "cell_type": "markdown",
      "source": [
        "# EDA"
      ],
      "metadata": {
        "id": "zQJGGAe_yhNJ"
      }
    },
    {
      "cell_type": "markdown",
      "source": [
        "## __San Diego__"
      ],
      "metadata": {
        "id": "A4CV4J8lI_41"
      }
    },
    {
      "cell_type": "markdown",
      "source": [
        "Our research question is:```\"how the modeshare of San Diego transit usage changed following these upgrades.\"``` In order to explore the change in ridership population after system upgrades and new constructions, we think lineplots would display the best visual representation of the years(change in time series) and the amount of riderships. For our distribution of all of our data, it will a time-series distribution since our data is a variable over time. For the outliers, we mention specific periods of time that we wanted to draw attention in our individual analyses of each city, however, as of right now there are no immediate outliers that we can see as all the data seems to be consistent with our outside research and trends."
      ],
      "metadata": {
        "id": "r2263opwzzve"
      }
    },
    {
      "cell_type": "code",
      "source": [
        "f1, ax1 = plt.subplots()\n",
        "ax1.plot(NTD_SD_Agg.index, NTD_SD_Agg['CB'], label='CB')\n",
        "ax1.plot(NTD_SD_Agg.index, NTD_SD_Agg['CR'], label='CR')\n",
        "ax1.plot(NTD_SD_Agg.index, NTD_SD_Agg['YR'], label='YR')\n",
        "f1.show()\n",
        "plt.legend()\n",
        "plt.title('SD: CB/CR/YR')\n",
        "\n",
        "#transpose_SD.plot(kind='line', y = 'CB')\n",
        "#plt.xticks(transpose_SD.index)\n",
        "#plt.figure(figsize=(30,30))"
      ],
      "metadata": {
        "colab": {
          "base_uri": "https://localhost:8080/",
          "height": 299
        },
        "id": "9O6MX1IN3pVo",
        "outputId": "736eb4e7-7e9b-4eca-e360-3190127ff2b6"
      },
      "execution_count": null,
      "outputs": [
        {
          "output_type": "execute_result",
          "data": {
            "text/plain": [
              "Text(0.5, 1.0, 'SD: CB/CR/YR')"
            ]
          },
          "metadata": {},
          "execution_count": 30
        },
        {
          "output_type": "display_data",
          "data": {
            "text/plain": [
              "<Figure size 432x288 with 1 Axes>"
            ],
            "image/png": "[encoded data removed]"
          },
          "metadata": {
            "needs_background": "light"
          }
        }
      ]
    },
    {
      "cell_type": "code",
      "source": [
        "f2, ax2 = plt.subplots()\n",
        "ax2.plot(NTD_SD_Agg.index, NTD_SD_Agg['LR'], label='LR',color='red')\n",
        "#plt.xticks(range(0,30,3))\n",
        "f2.show()\n",
        "plt.legend()\n",
        "plt.title('SD: LR')"
      ],
      "metadata": {
        "colab": {
          "base_uri": "https://localhost:8080/",
          "height": 299
        },
        "id": "vVChF3KM13WG",
        "outputId": "f64ad5c2-8792-4fb0-8b40-31f84727a4b7"
      },
      "execution_count": null,
      "outputs": [
        {
          "output_type": "execute_result",
          "data": {
            "text/plain": [
              "Text(0.5, 1.0, 'SD: LR')"
            ]
          },
          "metadata": {},
          "execution_count": 31
        },
        {
          "output_type": "display_data",
          "data": {
            "text/plain": [
              "<Figure size 432x288 with 1 Axes>"
            ],
            "image/png": "[encoded data removed]"
          },
          "metadata": {
            "needs_background": "light"
          }
        }
      ]
    },
    {
      "cell_type": "code",
      "source": [
        "f3, ax3 = plt.subplots()\n",
        "ax3.plot(NTD_SD_Agg.index, NTD_SD_Agg['MB'], label='MB', color = 'purple')\n",
        "#plt.xticks(range(0,30,3))\n",
        "plt.legend()\n",
        "f3.show()\n",
        "plt.title('SD: MB')"
      ],
      "metadata": {
        "colab": {
          "base_uri": "https://localhost:8080/",
          "height": 299
        },
        "id": "nOTwONcHzRmK",
        "outputId": "2531acdf-ff5a-4dbe-d6f9-d17f5fcd0f7c"
      },
      "execution_count": null,
      "outputs": [
        {
          "output_type": "execute_result",
          "data": {
            "text/plain": [
              "Text(0.5, 1.0, 'SD: MB')"
            ]
          },
          "metadata": {},
          "execution_count": 32
        },
        {
          "output_type": "display_data",
          "data": {
            "text/plain": [
              "<Figure size 432x288 with 1 Axes>"
            ],
            "image/png": "[encoded data removed]"
          },
          "metadata": {
            "needs_background": "light"
          }
        }
      ]
    },
    {
      "cell_type": "markdown",
      "source": [
        "---"
      ],
      "metadata": {
        "id": "zBkiw7LvDqeW"
      }
    },
    {
      "cell_type": "markdown",
      "source": [
        "__Analysis:__"
      ],
      "metadata": {
        "id": "bCj33atdJL-t"
      }
    },
    {
      "cell_type": "markdown",
      "source": [
        "\n",
        "\n",
        "For ```SD: MB```, we can clearly see that it gradually increses from 1991 to 2009,this is becase starting from 1991 to 2008, buses are increasing extensively due to the continuously constructed city sites, including corridors, convention centers, or hotels.[^1](https://www.sdmts.com/about/history) However, the great resession happened in 2008 and last about three years. This well explains the decreasing portion of our data from 2008-2011 since people had no need to ride the bus anymore due to job loss. After 2011, the amount of ridership recovered gradually.[^2](https://www.bls.gov/opub/mlr/2018/article/great-recession-great-recovery.htm#:~:text=In%202010%2C%20however%2C%20the%20U.S.,than%20that%20in%20November%202007)"
      ],
      "metadata": {
        "id": "HkbdLlhOQ4Yf"
      }
    },
    {
      "cell_type": "markdown",
      "source": [
        "## __Portland__"
      ],
      "metadata": {
        "id": "U-tpgvIJJQAx"
      }
    },
    {
      "cell_type": "code",
      "source": [
        "#select the same transportation as San Diego's\n",
        "transpose_po2 = NTD_PO_Agg[['CB','YR', 'LR', 'MB']]"
      ],
      "metadata": {
        "id": "AS9P2sEFJUjZ"
      },
      "execution_count": null,
      "outputs": []
    },
    {
      "cell_type": "code",
      "source": [
        "f4, ax4 = plt.subplots()\n",
        "ax4.plot(transpose_po2.index, transpose_po2['YR'], label='YR', color='green')\n",
        "f4.show()\n",
        "plt.legend()\n",
        "plt.title('PO: CR, YR')"
      ],
      "metadata": {
        "id": "CCBEshkZJYQZ",
        "colab": {
          "base_uri": "https://localhost:8080/",
          "height": 299
        },
        "outputId": "e1bcccc3-4579-4178-bc80-4eb0430a470a"
      },
      "execution_count": null,
      "outputs": [
        {
          "output_type": "execute_result",
          "data": {
            "text/plain": [
              "Text(0.5, 1.0, 'PO: CR, YR')"
            ]
          },
          "metadata": {},
          "execution_count": 46
        },
        {
          "output_type": "display_data",
          "data": {
            "text/plain": [
              "<Figure size 432x288 with 1 Axes>"
            ],
            "image/png": "[encoded data removed]"
          },
          "metadata": {
            "needs_background": "light"
          }
        }
      ]
    },
    {
      "cell_type": "code",
      "source": [
        "f5, ax5 = plt.subplots()\n",
        "ax5.plot(transpose_po2.index, transpose_po2['CB'], label='CB', color='blue')\n",
        "f5.show()\n",
        "plt.legend()\n",
        "plt.title('PO: CB')"
      ],
      "metadata": {
        "colab": {
          "base_uri": "https://localhost:8080/",
          "height": 299
        },
        "id": "66uwlHKBLLNd",
        "outputId": "ee451465-cef3-4f31-8fe5-bc0fe405476c"
      },
      "execution_count": null,
      "outputs": [
        {
          "output_type": "execute_result",
          "data": {
            "text/plain": [
              "Text(0.5, 1.0, 'PO: CB')"
            ]
          },
          "metadata": {},
          "execution_count": 47
        },
        {
          "output_type": "display_data",
          "data": {
            "text/plain": [
              "<Figure size 432x288 with 1 Axes>"
            ],
            "image/png": "[encoded data removed]"
          },
          "metadata": {
            "needs_background": "light"
          }
        }
      ]
    },
    {
      "cell_type": "code",
      "source": [
        "f6, ax6 = plt.subplots()\n",
        "ax6.plot(transpose_po2.index, transpose_po2['LR'], label='LR', color='red')\n",
        "f6.show()\n",
        "plt.legend()\n",
        "plt.title('PO: LR')"
      ],
      "metadata": {
        "colab": {
          "base_uri": "https://localhost:8080/",
          "height": 299
        },
        "id": "VfatJItJNZDJ",
        "outputId": "4e15164a-6980-4767-9d76-4008a056e49b"
      },
      "execution_count": null,
      "outputs": [
        {
          "output_type": "execute_result",
          "data": {
            "text/plain": [
              "Text(0.5, 1.0, 'PO: LR')"
            ]
          },
          "metadata": {},
          "execution_count": 48
        },
        {
          "output_type": "display_data",
          "data": {
            "text/plain": [
              "<Figure size 432x288 with 1 Axes>"
            ],
            "image/png": "[encoded data removed]"
          },
          "metadata": {
            "needs_background": "light"
          }
        }
      ]
    },
    {
      "cell_type": "code",
      "source": [
        "f7, ax7 = plt.subplots()\n",
        "ax7.plot(transpose_po2.index, transpose_po2['MB'], label='MB', color ='purple')\n",
        "f7.show()\n",
        "plt.legend()\n",
        "plt.title('PO: MB')"
      ],
      "metadata": {
        "colab": {
          "base_uri": "https://localhost:8080/",
          "height": 299
        },
        "id": "GK2XrtZbNp06",
        "outputId": "8740dd7e-ade7-4f23-b25f-f5842341bfbe"
      },
      "execution_count": null,
      "outputs": [
        {
          "output_type": "execute_result",
          "data": {
            "text/plain": [
              "Text(0.5, 1.0, 'PO: MB')"
            ]
          },
          "metadata": {},
          "execution_count": 49
        },
        {
          "output_type": "display_data",
          "data": {
            "text/plain": [
              "<Figure size 432x288 with 1 Axes>"
            ],
            "image/png": "[encoded data removed]"
          },
          "metadata": {
            "needs_background": "light"
          }
        }
      ]
    },
    {
      "cell_type": "markdown",
      "source": [
        "---"
      ],
      "metadata": {
        "id": "QbZeu780QjMA"
      }
    },
    {
      "cell_type": "markdown",
      "source": [
        "__Analysis:__"
      ],
      "metadata": {
        "id": "JTN_YAkTOYUu"
      }
    },
    {
      "cell_type": "markdown",
      "source": [
        "For ```PO: LR```, notice the sudden increase in ridership, in the late 1990's. This increase can be explaind by the expansion of the Westside MAX, also known as the Blue Line that connects Portland to Hillsboro. [^1](https://en.wikipedia.org/wiki/TriMet)\n",
        "\n",
        "For ```PO: MB```, the decrease in bus ridership from 2008 until the early 2010's was a consequence of the weakening of the economy and double digit unemployment accounts for the sharp decrease in bus ridership.[^2](https://www.oregonlive.com/commuting/2010/01/trimet_bus_ridership_plummets.html)Comparing Portland's chart with San Deigo, we can see the similarity in ridership decline during this time."
      ],
      "metadata": {
        "id": "WPYBZA6LQtaK"
      }
    },
    {
      "cell_type": "markdown",
      "source": [
        "## __Sacramento__"
      ],
      "metadata": {
        "id": "Rxvv0tb7Ohag"
      }
    },
    {
      "cell_type": "code",
      "source": [
        "transpose_sa2 = NTD_SA_Agg.iloc[:,:-1]\n",
        "transpose_sa2.head()"
      ],
      "metadata": {
        "colab": {
          "base_uri": "https://localhost:8080/",
          "height": 206
        },
        "id": "QEsT5RxsOnuZ",
        "outputId": "d0fd8e9b-e8ba-4c8b-a971-af5bad8d1557"
      },
      "execution_count": null,
      "outputs": [
        {
          "output_type": "execute_result",
          "data": {
            "text/plain": [
              "Mode   CB         LR          MB\n",
              "1991  0.0  6592504.0  16776007.0\n",
              "1992  0.0  6781165.0  16457967.0\n",
              "1993  0.0  6571393.0  15090018.0\n",
              "1994  0.0  6958332.0  16584790.0\n",
              "1995  0.0  7063657.0  16665272.0"
            ],
            "text/html": [
              "\n",
              "  <div id=\"df-a70bbf6b-febf-4d46-a14e-0bbaf5903a12\">\n",
              "    <div class=\"colab-df-container\">\n",
              "      <div>\n",
              "<style scoped>\n",
              "    .dataframe tbody tr th:only-of-type {\n",
              "        vertical-align: middle;\n",
              "    }\n",
              "\n",
              "    .dataframe tbody tr th {\n",
              "        vertical-align: top;\n",
              "    }\n",
              "\n",
              "    .dataframe thead th {\n",
              "        text-align: right;\n",
              "    }\n",
              "</style>\n",
              "<table border=\"1\" class=\"dataframe\">\n",
              "  <thead>\n",
              "    <tr style=\"text-align: right;\">\n",
              "      <th>Mode</th>\n",
              "      <th>CB</th>\n",
              "      <th>LR</th>\n",
              "      <th>MB</th>\n",
              "    </tr>\n",
              "  </thead>\n",
              "  <tbody>\n",
              "    <tr>\n",
              "      <th>1991</th>\n",
              "      <td>0.0</td>\n",
              "      <td>6592504.0</td>\n",
              "      <td>16776007.0</td>\n",
              "    </tr>\n",
              "    <tr>\n",
              "      <th>1992</th>\n",
              "      <td>0.0</td>\n",
              "      <td>6781165.0</td>\n",
              "      <td>16457967.0</td>\n",
              "    </tr>\n",
              "    <tr>\n",
              "      <th>1993</th>\n",
              "      <td>0.0</td>\n",
              "      <td>6571393.0</td>\n",
              "      <td>15090018.0</td>\n",
              "    </tr>\n",
              "    <tr>\n",
              "      <th>1994</th>\n",
              "      <td>0.0</td>\n",
              "      <td>6958332.0</td>\n",
              "      <td>16584790.0</td>\n",
              "    </tr>\n",
              "    <tr>\n",
              "      <th>1995</th>\n",
              "      <td>0.0</td>\n",
              "      <td>7063657.0</td>\n",
              "      <td>16665272.0</td>\n",
              "    </tr>\n",
              "  </tbody>\n",
              "</table>\n",
              "</div>\n",
              "      <button class=\"colab-df-convert\" onclick=\"convertToInteractive('df-a70bbf6b-febf-4d46-a14e-0bbaf5903a12')\"\n",
              "              title=\"Convert this dataframe to an interactive table.\"\n",
              "              style=\"display:none;\">\n",
              "        \n",
              "  <svg xmlns=\"http://www.w3.org/2000/svg\" height=\"24px\"viewBox=\"0 0 24 24\"\n",
              "       width=\"24px\">\n",
              "    <path d=\"M0 0h24v24H0V0z\" fill=\"none\"/>\n",
              "    <path d=\"M18.56 5.44l.94 2.06.94-2.06 2.06-.94-2.06-.94-.94-2.06-.94 2.06-2.06.94zm-11 1L8.5 8.5l.94-2.06 2.06-.94-2.06-.94L8.5 2.5l-.94 2.06-2.06.94zm10 10l.94 2.06.94-2.06 2.06-.94-2.06-.94-.94-2.06-.94 2.06-2.06.94z\"/><path d=\"M17.41 7.96l-1.37-1.37c-.4-.4-.92-.59-1.43-.59-.52 0-1.04.2-1.43.59L10.3 9.45l-7.72 7.72c-.78.78-.78 2.05 0 2.83L4 21.41c.39.39.9.59 1.41.59.51 0 1.02-.2 1.41-.59l7.78-7.78 2.81-2.81c.8-.78.8-2.07 0-2.86zM5.41 20L4 18.59l7.72-7.72 1.47 1.35L5.41 20z\"/>\n",
              "  </svg>\n",
              "      </button>\n",
              "      \n",
              "  <style>\n",
              "    .colab-df-container {\n",
              "      display:flex;\n",
              "      flex-wrap:wrap;\n",
              "      gap: 12px;\n",
              "    }\n",
              "\n",
              "    .colab-df-convert {\n",
              "      background-color: #E8F0FE;\n",
              "      border: none;\n",
              "      border-radius: 50%;\n",
              "      cursor: pointer;\n",
              "      display: none;\n",
              "      fill: #1967D2;\n",
              "      height: 32px;\n",
              "      padding: 0 0 0 0;\n",
              "      width: 32px;\n",
              "    }\n",
              "\n",
              "    .colab-df-convert:hover {\n",
              "      background-color: #E2EBFA;\n",
              "      box-shadow: 0px 1px 2px rgba(60, 64, 67, 0.3), 0px 1px 3px 1px rgba(60, 64, 67, 0.15);\n",
              "      fill: #174EA6;\n",
              "    }\n",
              "\n",
              "    [theme=dark] .colab-df-convert {\n",
              "      background-color: #3B4455;\n",
              "      fill: #D2E3FC;\n",
              "    }\n",
              "\n",
              "    [theme=dark] .colab-df-convert:hover {\n",
              "      background-color: #434B5C;\n",
              "      box-shadow: 0px 1px 3px 1px rgba(0, 0, 0, 0.15);\n",
              "      filter: drop-shadow(0px 1px 2px rgba(0, 0, 0, 0.3));\n",
              "      fill: #FFFFFF;\n",
              "    }\n",
              "  </style>\n",
              "\n",
              "      <script>\n",
              "        const buttonEl =\n",
              "          document.querySelector('#df-a70bbf6b-febf-4d46-a14e-0bbaf5903a12 button.colab-df-convert');\n",
              "        buttonEl.style.display =\n",
              "          google.colab.kernel.accessAllowed ? 'block' : 'none';\n",
              "\n",
              "        async function convertToInteractive(key) {\n",
              "          const element = document.querySelector('#df-a70bbf6b-febf-4d46-a14e-0bbaf5903a12');\n",
              "          const dataTable =\n",
              "            await google.colab.kernel.invokeFunction('convertToInteractive',\n",
              "                                                     [key], {});\n",
              "          if (!dataTable) return;\n",
              "\n",
              "          const docLinkHtml = 'Like what you see? Visit the ' +\n",
              "            '<a target=\"_blank\" href=https://colab.research.google.com/notebooks/data_table.ipynb>data table notebook</a>'\n",
              "            + ' to learn more about interactive tables.';\n",
              "          element.innerHTML = '';\n",
              "          dataTable['output_type'] = 'display_data';\n",
              "          await google.colab.output.renderOutput(dataTable, element);\n",
              "          const docLink = document.createElement('div');\n",
              "          docLink.innerHTML = docLinkHtml;\n",
              "          element.appendChild(docLink);\n",
              "        }\n",
              "      </script>\n",
              "    </div>\n",
              "  </div>\n",
              "  "
            ]
          },
          "metadata": {},
          "execution_count": 50
        }
      ]
    },
    {
      "cell_type": "code",
      "source": [
        "f8, ax8 = plt.subplots()\n",
        "ax8.plot(transpose_sa2.index, transpose_sa2['CB'], label='CB', color='blue')\n",
        "f8.show()\n",
        "plt.legend()\n",
        "plt.title('SA: CB')"
      ],
      "metadata": {
        "colab": {
          "base_uri": "https://localhost:8080/",
          "height": 299
        },
        "id": "vsVEIW0BOpPq",
        "outputId": "44d1c7be-8473-4b15-ca53-3c1c21732a03"
      },
      "execution_count": null,
      "outputs": [
        {
          "output_type": "execute_result",
          "data": {
            "text/plain": [
              "Text(0.5, 1.0, 'SA: CB')"
            ]
          },
          "metadata": {},
          "execution_count": 51
        },
        {
          "output_type": "display_data",
          "data": {
            "text/plain": [
              "<Figure size 432x288 with 1 Axes>"
            ],
            "image/png": "[encoded data removed]"
          },
          "metadata": {
            "needs_background": "light"
          }
        }
      ]
    },
    {
      "cell_type": "code",
      "source": [
        "f9, ax9 = plt.subplots()\n",
        "ax9.plot(transpose_sa2.index, transpose_sa2['LR'], label='LR', color='red')\n",
        "f9.show()\n",
        "plt.legend()\n",
        "plt.title('SA: LR')"
      ],
      "metadata": {
        "colab": {
          "base_uri": "https://localhost:8080/",
          "height": 299
        },
        "id": "qsxwYQPjPo1-",
        "outputId": "f2277658-1ac8-4ce5-a616-5ed9bb9ef1e0"
      },
      "execution_count": null,
      "outputs": [
        {
          "output_type": "execute_result",
          "data": {
            "text/plain": [
              "Text(0.5, 1.0, 'SA: LR')"
            ]
          },
          "metadata": {},
          "execution_count": 52
        },
        {
          "output_type": "display_data",
          "data": {
            "text/plain": [
              "<Figure size 432x288 with 1 Axes>"
            ],
            "image/png": "[encoded data removed]"
          },
          "metadata": {
            "needs_background": "light"
          }
        }
      ]
    },
    {
      "cell_type": "code",
      "source": [
        "f10, ax10 = plt.subplots()\n",
        "ax10.plot(transpose_sa2.index, transpose_sa2['MB'], label='MB', color='purple')\n",
        "f10.show()\n",
        "plt.legend()\n",
        "plt.title('SA: MB')"
      ],
      "metadata": {
        "colab": {
          "base_uri": "https://localhost:8080/",
          "height": 299
        },
        "id": "fb2y1HAxPvZ5",
        "outputId": "49ff8669-c71f-4867-bdf1-5259f9aca0b4"
      },
      "execution_count": null,
      "outputs": [
        {
          "output_type": "execute_result",
          "data": {
            "text/plain": [
              "Text(0.5, 1.0, 'SA: MB')"
            ]
          },
          "metadata": {},
          "execution_count": 53
        },
        {
          "output_type": "display_data",
          "data": {
            "text/plain": [
              "<Figure size 432x288 with 1 Axes>"
            ],
            "image/png": "[encoded data removed]"
          },
          "metadata": {
            "needs_background": "light"
          }
        }
      ]
    },
    {
      "cell_type": "markdown",
      "source": [
        "---"
      ],
      "metadata": {
        "id": "UkC2Yd6tQl93"
      }
    },
    {
      "cell_type": "markdown",
      "source": [
        "__Analysis:__"
      ],
      "metadata": {
        "id": "RvFaZx-kQpL2"
      }
    },
    {
      "cell_type": "markdown",
      "source": [
        "For ```SA: LR```, light rail transit ridership steadilly increased from the mid 1990's to 2003. Notice the dramatic increase in 2003. This was a consequence of the expansion of Sacramento's Regional Transit opening up the first phasee of Blue Line, formally known as the South Line.[^1](https://en.wikipedia.org/wiki/Sacramento_RT_Light_Rail)\n",
        "\n",
        "For ```SA: MB```, similar to the bus development trend as San Diego, Sacramento has a general increasing trend due to the city construction. However, as the outbreak of the Great Depression, the bus ridership is severely affected economically. As the recovery of economy, the ridership gradually swings back to increase."
      ],
      "metadata": {
        "id": "r_SzeapyaT2w"
      }
    },
    {
      "cell_type": "markdown",
      "metadata": {
        "id": "zVqlNRkyVtjv"
      },
      "source": [
        "# Data Analysis & Results"
      ]
    },
    {
      "cell_type": "code",
      "source": [
        "def create_regression_summary(ind_var_df, dep_var_df, ind_var_col, dep_var_col):\n",
        "    # this function from open AI chat GPT\n",
        "    # Concatenate the independent and dependent variable dataframes\n",
        "    df = pd.concat([ind_var_df, dep_var_df], axis=1)\n",
        "\n",
        "    # Create the regression formula string\n",
        "    formula_str = f\"{dep_var_col} ~ {ind_var_col}\"\n",
        "\n",
        "    # Fit a linear regression model using the formula\n",
        "    model = smf.ols(formula=formula_str, data=df).fit()\n",
        "\n",
        "    # Return the regression summary\n",
        "    return model.summary()"
      ],
      "metadata": {
        "id": "mtt-SCnLO-Tg"
      },
      "execution_count": null,
      "outputs": []
    },
    {
      "cell_type": "code",
      "source": [
        "LR_MB_VRH_SD = create_regression_summary(SD_service_expansions, SD_VRH_Norm_per, 'LR_exp', 'MB')\n",
        "LR_LR_VRH_SD = create_regression_summary(SD_service_expansions, SD_VRH_Norm_per, 'LR_exp', 'LR')\n",
        "LR_MB_POP_SD = create_regression_summary(SD_service_expansions, SD_Pop_Norm_per, 'LR_exp', 'MB')\n",
        "LR_LR_POP_SD = create_regression_summary(SD_service_expansions, SD_Pop_Norm_per, 'LR_exp', 'LR')\n",
        "LR_MB_VRH_SA = create_regression_summary(SA_service_expansions, SA_VRH_Norm_per, 'LR_exp', 'MB')\n",
        "LR_LR_VRH_SA = create_regression_summary(SA_service_expansions, SA_VRH_Norm_per, 'LR_exp', 'LR')\n",
        "LR_MB_POP_SA = create_regression_summary(SA_service_expansions, SA_Pop_Norm_per, 'LR_exp', 'MB')\n",
        "LR_LR_POP_SA = create_regression_summary(SA_service_expansions, SA_Pop_Norm_per, 'LR_exp', 'LR')\n",
        "LR_MB_VRH_PDX = create_regression_summary(PDX_service_expansions, PDX_VRH_Norm_per, 'LR_exp', 'MB')\n",
        "LR_LR_VRH_PDX = create_regression_summary(PDX_service_expansions, PDX_VRH_Norm_per, 'LR_exp', 'LR')\n",
        "LR_MB_POP_PDX = create_regression_summary(PDX_service_expansions, PDX_Pop_Norm_per, 'LR_exp', 'MB')\n",
        "LR_LR_POP_PDX = create_regression_summary(PDX_service_expansions, PDX_Pop_Norm_per, 'LR_exp', 'LR')"
      ],
      "metadata": {
        "id": "HshHoNt8Ucny"
      },
      "execution_count": null,
      "outputs": []
    },
    {
      "cell_type": "code",
      "source": [
        "list_of_summaries = [LR_MB_VRH_SD, LR_LR_VRH_SD, LR_MB_POP_SD, LR_LR_POP_SD, LR_MB_VRH_SA, LR_LR_VRH_SA, LR_MB_POP_SA, LR_LR_POP_SA, LR_MB_VRH_PDX, LR_LR_VRH_PDX, LR_MB_POP_PDX, LR_LR_POP_PDX]"
      ],
      "metadata": {
        "id": "lIrCTULIWc4n"
      },
      "execution_count": null,
      "outputs": []
    },
    {
      "cell_type": "code",
      "source": [
        "print(list_of_summaries)"
      ],
      "metadata": {
        "colab": {
          "base_uri": "https://localhost:8080/"
        },
        "id": "XaXtX_baXMIV",
        "outputId": "0955f389-f6ed-4897-d868-72b7bab29058"
      },
      "execution_count": null,
      "outputs": [
        {
          "output_type": "stream",
          "name": "stdout",
          "text": [
            "[<class 'statsmodels.iolib.summary.Summary'>\n",
            "\"\"\"\n",
            "                            OLS Regression Results                            \n",
            "==============================================================================\n",
            "Dep. Variable:                     MB   R-squared:                       0.063\n",
            "Model:                            OLS   Adj. R-squared:                  0.028\n",
            "Method:                 Least Squares   F-statistic:                     1.802\n",
            "Date:                Fri, 09 Dec 2022   Prob (F-statistic):              0.191\n",
            "Time:                        05:57:04   Log-Likelihood:                 48.365\n",
            "No. Observations:                  29   AIC:                            -92.73\n",
            "Df Residuals:                      27   BIC:                            -90.00\n",
            "Df Model:                           1                                         \n",
            "Covariance Type:            nonrobust                                         \n",
            "==============================================================================\n",
            "                 coef    std err          t      P>|t|      [0.025      0.975]\n",
            "------------------------------------------------------------------------------\n",
            "Intercept     -0.0163      0.010     -1.648      0.111      -0.036       0.004\n",
            "LR_exp         0.0291      0.022      1.342      0.191      -0.015       0.074\n",
            "==============================================================================\n",
            "Omnibus:                        0.979   Durbin-Watson:                   0.946\n",
            "Prob(Omnibus):                  0.613   Jarque-Bera (JB):                0.802\n",
            "Skew:                           0.006   Prob(JB):                        0.670\n",
            "Kurtosis:                       2.186   Cond. No.                         2.59\n",
            "==============================================================================\n",
            "\n",
            "Notes:\n",
            "[1] Standard Errors assume that the covariance matrix of the errors is correctly specified.\n",
            "\"\"\", <class 'statsmodels.iolib.summary.Summary'>\n",
            "\"\"\"\n",
            "                            OLS Regression Results                            \n",
            "==============================================================================\n",
            "Dep. Variable:                     LR   R-squared:                       0.146\n",
            "Model:                            OLS   Adj. R-squared:                  0.115\n",
            "Method:                 Least Squares   F-statistic:                     4.622\n",
            "Date:                Fri, 09 Dec 2022   Prob (F-statistic):             0.0407\n",
            "Time:                        05:57:05   Log-Likelihood:                 27.599\n",
            "No. Observations:                  29   AIC:                            -51.20\n",
            "Df Residuals:                      27   BIC:                            -48.46\n",
            "Df Model:                           1                                         \n",
            "Covariance Type:            nonrobust                                         \n",
            "==============================================================================\n",
            "                 coef    std err          t      P>|t|      [0.025      0.975]\n",
            "------------------------------------------------------------------------------\n",
            "Intercept     -0.0159      0.020     -0.788      0.438      -0.057       0.026\n",
            "LR_exp         0.0954      0.044      2.150      0.041       0.004       0.186\n",
            "==============================================================================\n",
            "Omnibus:                        3.029   Durbin-Watson:                   2.722\n",
            "Prob(Omnibus):                  0.220   Jarque-Bera (JB):                1.799\n",
            "Skew:                           0.162   Prob(JB):                        0.407\n",
            "Kurtosis:                       4.176   Cond. No.                         2.59\n",
            "==============================================================================\n",
            "\n",
            "Notes:\n",
            "[1] Standard Errors assume that the covariance matrix of the errors is correctly specified.\n",
            "\"\"\", <class 'statsmodels.iolib.summary.Summary'>\n",
            "\"\"\"\n",
            "                            OLS Regression Results                            \n",
            "==============================================================================\n",
            "Dep. Variable:                     MB   R-squared:                       0.077\n",
            "Model:                            OLS   Adj. R-squared:                  0.043\n",
            "Method:                 Least Squares   F-statistic:                     2.256\n",
            "Date:                Fri, 09 Dec 2022   Prob (F-statistic):              0.145\n",
            "Time:                        05:57:05   Log-Likelihood:                 51.358\n",
            "No. Observations:                  29   AIC:                            -98.72\n",
            "Df Residuals:                      27   BIC:                            -95.98\n",
            "Df Model:                           1                                         \n",
            "Covariance Type:            nonrobust                                         \n",
            "==============================================================================\n",
            "                 coef    std err          t      P>|t|      [0.025      0.975]\n",
            "------------------------------------------------------------------------------\n",
            "Intercept     -0.0143      0.009     -1.604      0.120      -0.033       0.004\n",
            "LR_exp         0.0294      0.020      1.502      0.145      -0.011       0.070\n",
            "==============================================================================\n",
            "Omnibus:                        0.191   Durbin-Watson:                   1.074\n",
            "Prob(Omnibus):                  0.909   Jarque-Bera (JB):                0.040\n",
            "Skew:                           0.078   Prob(JB):                        0.980\n",
            "Kurtosis:                       2.905   Cond. No.                         2.59\n",
            "==============================================================================\n",
            "\n",
            "Notes:\n",
            "[1] Standard Errors assume that the covariance matrix of the errors is correctly specified.\n",
            "\"\"\", <class 'statsmodels.iolib.summary.Summary'>\n",
            "\"\"\"\n",
            "                            OLS Regression Results                            \n",
            "==============================================================================\n",
            "Dep. Variable:                     LR   R-squared:                       0.050\n",
            "Model:                            OLS   Adj. R-squared:                  0.015\n",
            "Method:                 Least Squares   F-statistic:                     1.430\n",
            "Date:                Fri, 09 Dec 2022   Prob (F-statistic):              0.242\n",
            "Time:                        05:57:05   Log-Likelihood:                 25.454\n",
            "No. Observations:                  29   AIC:                            -46.91\n",
            "Df Residuals:                      27   BIC:                            -44.17\n",
            "Df Model:                           1                                         \n",
            "Covariance Type:            nonrobust                                         \n",
            "==============================================================================\n",
            "                 coef    std err          t      P>|t|      [0.025      0.975]\n",
            "------------------------------------------------------------------------------\n",
            "Intercept      0.0092      0.022      0.425      0.675      -0.035       0.054\n",
            "LR_exp         0.0572      0.048      1.196      0.242      -0.041       0.155\n",
            "==============================================================================\n",
            "Omnibus:                       10.998   Durbin-Watson:                   1.949\n",
            "Prob(Omnibus):                  0.004   Jarque-Bera (JB):               10.299\n",
            "Skew:                           1.085   Prob(JB):                      0.00580\n",
            "Kurtosis:                       4.953   Cond. No.                         2.59\n",
            "==============================================================================\n",
            "\n",
            "Notes:\n",
            "[1] Standard Errors assume that the covariance matrix of the errors is correctly specified.\n",
            "\"\"\", <class 'statsmodels.iolib.summary.Summary'>\n",
            "\"\"\"\n",
            "                            OLS Regression Results                            \n",
            "==============================================================================\n",
            "Dep. Variable:                     MB   R-squared:                       0.011\n",
            "Model:                            OLS   Adj. R-squared:                 -0.026\n",
            "Method:                 Least Squares   F-statistic:                    0.3003\n",
            "Date:                Fri, 09 Dec 2022   Prob (F-statistic):              0.588\n",
            "Time:                        05:57:05   Log-Likelihood:                 40.985\n",
            "No. Observations:                  29   AIC:                            -77.97\n",
            "Df Residuals:                      27   BIC:                            -75.24\n",
            "Df Model:                           1                                         \n",
            "Covariance Type:            nonrobust                                         \n",
            "==============================================================================\n",
            "                 coef    std err          t      P>|t|      [0.025      0.975]\n",
            "------------------------------------------------------------------------------\n",
            "Intercept     -0.0205      0.014     -1.505      0.144      -0.049       0.007\n",
            "LR_exp        -0.0134      0.024     -0.548      0.588      -0.064       0.037\n",
            "==============================================================================\n",
            "Omnibus:                        1.146   Durbin-Watson:                   1.689\n",
            "Prob(Omnibus):                  0.564   Jarque-Bera (JB):                1.116\n",
            "Skew:                          -0.374   Prob(JB):                        0.572\n",
            "Kurtosis:                       2.398   Cond. No.                         2.42\n",
            "==============================================================================\n",
            "\n",
            "Notes:\n",
            "[1] Standard Errors assume that the covariance matrix of the errors is correctly specified.\n",
            "\"\"\", <class 'statsmodels.iolib.summary.Summary'>\n",
            "\"\"\"\n",
            "                            OLS Regression Results                            \n",
            "==============================================================================\n",
            "Dep. Variable:                     LR   R-squared:                       0.003\n",
            "Model:                            OLS   Adj. R-squared:                 -0.034\n",
            "Method:                 Least Squares   F-statistic:                   0.07733\n",
            "Date:                Fri, 09 Dec 2022   Prob (F-statistic):              0.783\n",
            "Time:                        05:57:05   Log-Likelihood:                 34.427\n",
            "No. Observations:                  29   AIC:                            -64.85\n",
            "Df Residuals:                      27   BIC:                            -62.12\n",
            "Df Model:                           1                                         \n",
            "Covariance Type:            nonrobust                                         \n",
            "==============================================================================\n",
            "                 coef    std err          t      P>|t|      [0.025      0.975]\n",
            "------------------------------------------------------------------------------\n",
            "Intercept     -0.0205      0.017     -1.201      0.240      -0.056       0.015\n",
            "LR_exp        -0.0085      0.031     -0.278      0.783      -0.072       0.054\n",
            "==============================================================================\n",
            "Omnibus:                        0.278   Durbin-Watson:                   2.023\n",
            "Prob(Omnibus):                  0.870   Jarque-Bera (JB):                0.377\n",
            "Skew:                           0.203   Prob(JB):                        0.828\n",
            "Kurtosis:                       2.617   Cond. No.                         2.42\n",
            "==============================================================================\n",
            "\n",
            "Notes:\n",
            "[1] Standard Errors assume that the covariance matrix of the errors is correctly specified.\n",
            "\"\"\", <class 'statsmodels.iolib.summary.Summary'>\n",
            "\"\"\"\n",
            "                            OLS Regression Results                            \n",
            "==============================================================================\n",
            "Dep. Variable:                     MB   R-squared:                       0.032\n",
            "Model:                            OLS   Adj. R-squared:                 -0.022\n",
            "Method:                 Least Squares   F-statistic:                    0.5974\n",
            "Date:                Fri, 09 Dec 2022   Prob (F-statistic):              0.450\n",
            "Time:                        05:57:05   Log-Likelihood:                 25.850\n",
            "No. Observations:                  20   AIC:                            -47.70\n",
            "Df Residuals:                      18   BIC:                            -45.71\n",
            "Df Model:                           1                                         \n",
            "Covariance Type:            nonrobust                                         \n",
            "==============================================================================\n",
            "                 coef    std err          t      P>|t|      [0.025      0.975]\n",
            "------------------------------------------------------------------------------\n",
            "Intercept     -0.0438      0.019     -2.342      0.031      -0.083      -0.005\n",
            "LR_exp         0.0264      0.034      0.773      0.450      -0.045       0.098\n",
            "==============================================================================\n",
            "Omnibus:                        5.344   Durbin-Watson:                   1.835\n",
            "Prob(Omnibus):                  0.069   Jarque-Bera (JB):                3.148\n",
            "Skew:                          -0.901   Prob(JB):                        0.207\n",
            "Kurtosis:                       3.728   Cond. No.                         2.42\n",
            "==============================================================================\n",
            "\n",
            "Notes:\n",
            "[1] Standard Errors assume that the covariance matrix of the errors is correctly specified.\n",
            "\"\"\", <class 'statsmodels.iolib.summary.Summary'>\n",
            "\"\"\"\n",
            "                            OLS Regression Results                            \n",
            "==============================================================================\n",
            "Dep. Variable:                     LR   R-squared:                       0.305\n",
            "Model:                            OLS   Adj. R-squared:                  0.267\n",
            "Method:                 Least Squares   F-statistic:                     7.907\n",
            "Date:                Fri, 09 Dec 2022   Prob (F-statistic):             0.0115\n",
            "Time:                        05:57:05   Log-Likelihood:                 21.923\n",
            "No. Observations:                  20   AIC:                            -39.85\n",
            "Df Residuals:                      18   BIC:                            -37.85\n",
            "Df Model:                           1                                         \n",
            "Covariance Type:            nonrobust                                         \n",
            "==============================================================================\n",
            "                 coef    std err          t      P>|t|      [0.025      0.975]\n",
            "------------------------------------------------------------------------------\n",
            "Intercept     -0.0366      0.023     -1.605      0.126      -0.084       0.011\n",
            "LR_exp         0.1169      0.042      2.812      0.012       0.030       0.204\n",
            "==============================================================================\n",
            "Omnibus:                        0.049   Durbin-Watson:                   1.797\n",
            "Prob(Omnibus):                  0.976   Jarque-Bera (JB):                0.274\n",
            "Skew:                           0.009   Prob(JB):                        0.872\n",
            "Kurtosis:                       2.427   Cond. No.                         2.42\n",
            "==============================================================================\n",
            "\n",
            "Notes:\n",
            "[1] Standard Errors assume that the covariance matrix of the errors is correctly specified.\n",
            "\"\"\", <class 'statsmodels.iolib.summary.Summary'>\n",
            "\"\"\"\n",
            "                            OLS Regression Results                            \n",
            "==============================================================================\n",
            "Dep. Variable:                     MB   R-squared:                       0.112\n",
            "Model:                            OLS   Adj. R-squared:                  0.079\n",
            "Method:                 Least Squares   F-statistic:                     3.389\n",
            "Date:                Fri, 09 Dec 2022   Prob (F-statistic):             0.0767\n",
            "Time:                        05:57:05   Log-Likelihood:                 51.483\n",
            "No. Observations:                  29   AIC:                            -98.97\n",
            "Df Residuals:                      27   BIC:                            -96.23\n",
            "Df Model:                           1                                         \n",
            "Covariance Type:            nonrobust                                         \n",
            "==============================================================================\n",
            "                 coef    std err          t      P>|t|      [0.025      0.975]\n",
            "------------------------------------------------------------------------------\n",
            "Intercept     -0.0160      0.009     -1.803      0.083      -0.034       0.002\n",
            "LR_exp         0.0359      0.019      1.841      0.077      -0.004       0.076\n",
            "==============================================================================\n",
            "Omnibus:                        3.020   Durbin-Watson:                   1.883\n",
            "Prob(Omnibus):                  0.221   Jarque-Bera (JB):                1.652\n",
            "Skew:                          -0.506   Prob(JB):                        0.438\n",
            "Kurtosis:                       3.586   Cond. No.                         2.59\n",
            "==============================================================================\n",
            "\n",
            "Notes:\n",
            "[1] Standard Errors assume that the covariance matrix of the errors is correctly specified.\n",
            "\"\"\", <class 'statsmodels.iolib.summary.Summary'>\n",
            "\"\"\"\n",
            "                            OLS Regression Results                            \n",
            "==============================================================================\n",
            "Dep. Variable:                     LR   R-squared:                       0.000\n",
            "Model:                            OLS   Adj. R-squared:                 -0.037\n",
            "Method:                 Least Squares   F-statistic:                 0.0004973\n",
            "Date:                Fri, 09 Dec 2022   Prob (F-statistic):              0.982\n",
            "Time:                        05:57:05   Log-Likelihood:                 36.446\n",
            "No. Observations:                  29   AIC:                            -68.89\n",
            "Df Residuals:                      27   BIC:                            -66.16\n",
            "Df Model:                           1                                         \n",
            "Covariance Type:            nonrobust                                         \n",
            "==============================================================================\n",
            "                 coef    std err          t      P>|t|      [0.025      0.975]\n",
            "------------------------------------------------------------------------------\n",
            "Intercept     -0.0049      0.015     -0.332      0.742      -0.035       0.026\n",
            "LR_exp         0.0007      0.033      0.022      0.982      -0.066       0.068\n",
            "==============================================================================\n",
            "Omnibus:                       22.817   Durbin-Watson:                   2.282\n",
            "Prob(Omnibus):                  0.000   Jarque-Bera (JB):               40.620\n",
            "Skew:                           1.690   Prob(JB):                     1.51e-09\n",
            "Kurtosis:                       7.710   Cond. No.                         2.59\n",
            "==============================================================================\n",
            "\n",
            "Notes:\n",
            "[1] Standard Errors assume that the covariance matrix of the errors is correctly specified.\n",
            "\"\"\", <class 'statsmodels.iolib.summary.Summary'>\n",
            "\"\"\"\n",
            "                            OLS Regression Results                            \n",
            "==============================================================================\n",
            "Dep. Variable:                     MB   R-squared:                       0.193\n",
            "Model:                            OLS   Adj. R-squared:                  0.148\n",
            "Method:                 Least Squares   F-statistic:                     4.293\n",
            "Date:                Fri, 09 Dec 2022   Prob (F-statistic):             0.0529\n",
            "Time:                        05:57:05   Log-Likelihood:                 39.195\n",
            "No. Observations:                  20   AIC:                            -74.39\n",
            "Df Residuals:                      18   BIC:                            -72.40\n",
            "Df Model:                           1                                         \n",
            "Covariance Type:            nonrobust                                         \n",
            "==============================================================================\n",
            "                 coef    std err          t      P>|t|      [0.025      0.975]\n",
            "------------------------------------------------------------------------------\n",
            "Intercept     -0.0256      0.009     -2.759      0.013      -0.045      -0.006\n",
            "LR_exp         0.0384      0.019      2.072      0.053      -0.001       0.077\n",
            "==============================================================================\n",
            "Omnibus:                        3.518   Durbin-Watson:                   2.245\n",
            "Prob(Omnibus):                  0.172   Jarque-Bera (JB):                1.609\n",
            "Skew:                           0.508   Prob(JB):                        0.447\n",
            "Kurtosis:                       3.947   Cond. No.                         2.48\n",
            "==============================================================================\n",
            "\n",
            "Notes:\n",
            "[1] Standard Errors assume that the covariance matrix of the errors is correctly specified.\n",
            "\"\"\", <class 'statsmodels.iolib.summary.Summary'>\n",
            "\"\"\"\n",
            "                            OLS Regression Results                            \n",
            "==============================================================================\n",
            "Dep. Variable:                     LR   R-squared:                       0.005\n",
            "Model:                            OLS   Adj. R-squared:                 -0.051\n",
            "Method:                 Least Squares   F-statistic:                   0.08374\n",
            "Date:                Fri, 09 Dec 2022   Prob (F-statistic):              0.776\n",
            "Time:                        05:57:05   Log-Likelihood:                 31.341\n",
            "No. Observations:                  20   AIC:                            -58.68\n",
            "Df Residuals:                      18   BIC:                            -56.69\n",
            "Df Model:                           1                                         \n",
            "Covariance Type:            nonrobust                                         \n",
            "==============================================================================\n",
            "                 coef    std err          t      P>|t|      [0.025      0.975]\n",
            "------------------------------------------------------------------------------\n",
            "Intercept      0.0140      0.014      1.020      0.321      -0.015       0.043\n",
            "LR_exp        -0.0080      0.027     -0.289      0.776      -0.066       0.050\n",
            "==============================================================================\n",
            "Omnibus:                        0.788   Durbin-Watson:                   1.767\n",
            "Prob(Omnibus):                  0.674   Jarque-Bera (JB):                0.796\n",
            "Skew:                           0.320   Prob(JB):                        0.672\n",
            "Kurtosis:                       2.261   Cond. No.                         2.48\n",
            "==============================================================================\n",
            "\n",
            "Notes:\n",
            "[1] Standard Errors assume that the covariance matrix of the errors is correctly specified.\n",
            "\"\"\"]\n"
          ]
        }
      ]
    },
    {
      "cell_type": "markdown",
      "metadata": {
        "id": "tokYGQEBVtjw"
      },
      "source": [
        "# Ethics & Privacy"
      ]
    },
    {
      "cell_type": "markdown",
      "metadata": {
        "id": "y0nOEpwKVtjw"
      },
      "source": [
        "We obtained most of our data from https://www.transit.dot.gov/ which is published by the government and open for people to use. The data only includes the usage of different types of transportations over years, which does not involve any individual’s privacy. Specifically, we used the U.S. census data which is already cleared for ethics. Additionally the datasets we used in our EDA processes were made by us using the data we've been working with. Our research question is well posed and not using any private information nor revealing private data of any individual or organization. Our analysis is transparent and designed to answer our research question. If any data or process in this project involves privacy issues, please contact us and we will remove related parts."
      ]
    },
    {
      "cell_type": "markdown",
      "metadata": {
        "id": "gwJ_1OAvVtjw"
      },
      "source": [
        "# Conclusion & Discussion"
      ]
    },
    {
      "cell_type": "markdown",
      "metadata": {
        "id": "sDs5Xhn9Vtjw"
      },
      "source": [
        "To do this analysis, we took year-over-year changes in ridership in Sacramento, Portland, and San Diego, normalized by Vehicle Revenue Hours (to try to tease out ridership per frequency) and by population (to try to tease out ridership per person in the service region). We then used linear regression to attempt to tease out the relationship between this normalized dataset and a hand-built record of new project openings, where a year in which a new project was marked with a 1 and other years marked with a 0. \n",
        "\n",
        "  Due to poor information on openings of new bus lines, commuter rail lines, etc., we only had enough data to look at Light rail openings and their effects on Motor Buses and Light Rail. In all three cities we looked at, we consistently found low R-squared values at or under 20%, and insignificant p-values at an alpha of 0.05. Only one p-value was significant, and because we ran 12 analyses, there is a too-high probability that this is due to random chance to consider the data valid. \n",
        "\n",
        "  It is possible that our failure to uncover a relationship between the opening of a new light rail and changes in ridership on light rail and bus networks is due to the lack of such relationship existing. However, it is also possible, and by intuition we believe it likely, that such a relationship actually exists, at least for the case of light rail expansions affecting light rail ridership. If we did fail to find a real relationship, our methodology is likely the reason. We counted any opening, no matter how large or small, as the same. Furthermore, it's common knowledge in transit planning that ridership often lags new projects due to the needs of legibility and public familiarity. It's also possible that the list of new projects we created by scraping press releases and news is incomplete, creating a garbage-in garbage-out scenario. "
      ]
    },
    {
      "cell_type": "markdown",
      "metadata": {
        "id": "iscil9Z1Vtjw"
      },
      "source": [
        "# Team Contributions"
      ]
    },
    {
      "cell_type": "markdown",
      "metadata": {
        "id": "1fdWd4BOVtjx"
      },
      "source": [
        "- Hang Liu - Contribute on EDA, Data Cleaning, Ethic, and research section\n",
        "- Alfonso's contribution is writing various summaries and analyses all throughout the project. I also did various research on the history of the various transportation methods in the three areas we focused on. Also helped with some of the code in the EDA section.\n",
        "- Bobby and Mingjin’s contributions were to research all possible expansions of transit systems in San Diego, Portland, and Sacramento. We created the datasets that included each transit mode for each city and we used that to compare whether these expansions were relevant to increase in passenger ridership of commuter bus and lite rail systems. In the EDA section, Bobby and Mingjin conducted a shot analysis and interpretation of the findings of each city to infer whether this data would help support our hypothesis.\n",
        "- Nathaniel: Research Question/Hypothesis, Code for Data Cleaning, EDA, and Final Analysis"
      ]
    }
  ],
  "metadata": {
    "kernelspec": {
      "display_name": "Python 3",
      "language": "python",
      "name": "python3"
    },
    "language_info": {
      "codemirror_mode": {
        "name": "ipython",
        "version": 3
      },
      "file_extension": ".py",
      "mimetype": "text/x-python",
      "name": "python",
      "nbconvert_exporter": "python",
      "pygments_lexer": "ipython3",
      "version": "3.7.9"
    },
    "colab": {
      "provenance": [],
      "collapsed_sections": [
        "A4CV4J8lI_41",
        "U-tpgvIJJQAx",
        "Rxvv0tb7Ohag"
      ]
    }
  },
  "nbformat": 4,
  "nbformat_minor": 0
}